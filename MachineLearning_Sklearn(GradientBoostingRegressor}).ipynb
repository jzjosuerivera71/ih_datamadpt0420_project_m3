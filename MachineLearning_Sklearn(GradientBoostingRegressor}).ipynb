{
 "cells": [
  {
   "cell_type": "code",
   "execution_count": null,
   "metadata": {
    "collapsed": true
   },
   "outputs": [],
   "source": [
    "import numpy as np # linear algebra\n",
    "import pandas as pd # data processing, CSV file I/O (e.g. pd.read_csv)"
   ]
  },
  {
   "cell_type": "code",
   "execution_count": null,
   "metadata": {
    "collapsed": true
   },
   "outputs": [],
   "source": [
    "# Input data files are available in the read-only \"../input/\" directory\n",
    "# For example, running this (by clicking run or pressing Shift+Enter) will list all files under the input directory\n",
    "\n",
    "import os\n",
    "for dirname, _, filenames in os.walk('/kaggle/input'):\n",
    "    for filename in filenames:\n",
    "        print(os.path.join(dirname, filename))"
   ]
  },
  {
   "cell_type": "code",
   "execution_count": null,
   "metadata": {
    "collapsed": true
   },
   "outputs": [],
   "source": [
    "from sklearn.preprocessing import StandardScaler\n",
    "from sklearn.model_selection import train_test_split\n",
    "from sklearn.ensemble import GradientBoostingRegressor\n",
    "from sklearn.metrics import mean_squared_error\n",
    "from sklearn.metrics import r2_score\n",
    "from sklearn.pipeline import Pipeline\n",
    "from sklearn.compose import ColumnTransformer\n",
    "from sklearn.impute import SimpleImputer\n",
    "from sklearn.preprocessing import OneHotEncoder, OrdinalEncoder\n",
    "from sklearn.model_selection import cross_val_score"
   ]
  },
  {
   "cell_type": "code",
   "execution_count": null,
   "metadata": {
    "collapsed": true
   },
   "outputs": [],
   "source": [
    "# DATA\n",
    "diamonds  = pd.read_csv('../input/dataptmad0420/diamonds_train.csv')\n",
    "diamonds_predict = pd.read_csv('../input/dataptmad0420/diamonds_predict.csv')\n",
    "sample_sub = pd.read_csv('../input/dataptmad0420/sample_submission.csv')"
   ]
  },
  {
   "cell_type": "code",
   "execution_count": null,
   "metadata": {
    "collapsed": true
   },
   "outputs": [],
   "source": [
    "diamonds['Vol'] = (0.2/3.51)*diamonds['carat']\n",
    "diamonds_predict['Vol'] = (0.2/3.51)*diamonds_predict['carat']\n",
    "\n",
    "NUM_FEATS = ['carat','depth', 'table','x', 'y', 'z','Vol'] #'Vol'\n",
    "CAT_FEATS = ['cut', 'color', 'clarity']\n",
    "FEATS = NUM_FEATS + CAT_FEATS\n",
    "TARGET = 'price'"
   ]
  },
  {
   "cell_type": "code",
   "execution_count": null,
   "metadata": {
    "collapsed": true
   },
   "outputs": [],
   "source": [
    "numeric_transformer = \\\n",
    "Pipeline(steps=[('imputer', SimpleImputer(strategy='mean')), #mean\n",
    "                ('scaler', StandardScaler())])"
   ]
  },
  {
   "cell_type": "code",
   "execution_count": null,
   "metadata": {
    "collapsed": true
   },
   "outputs": [],
   "source": [
    "categorical_transformer = \\\n",
    "Pipeline(steps=[('imputer', SimpleImputer(strategy='constant', fill_value='missing')),\n",
    "                ('onehot', OneHotEncoder(handle_unknown='ignore'))])"
   ]
  },
  {
   "cell_type": "code",
   "execution_count": null,
   "metadata": {
    "collapsed": true
   },
   "outputs": [],
   "source": [
    "preprocessor = \\\n",
    "ColumnTransformer(transformers=[('num', numeric_transformer, NUM_FEATS),\n",
    "                                ('cat', categorical_transformer, CAT_FEATS)])"
   ]
  },
  {
   "cell_type": "code",
   "execution_count": null,
   "metadata": {
    "collapsed": true
   },
   "outputs": [],
   "source": [
    "model= Pipeline(steps=[('preprocessor', preprocessor),\n",
    "                        ('regressor', GradientBoostingRegressor(n_estimators=700,\n",
    "                                                                min_samples_split=122,\n",
    "                                                                max_depth= 9,\n",
    "                                                                min_samples_leaf=10,\n",
    "                                                                max_features=15,\n",
    "                                                                subsample=0.9))])\n",
    "\n",
    "model.fit(diamonds[FEATS],diamonds[TARGET])"
   ]
  },
  {
   "cell_type": "code",
   "execution_count": null,
   "metadata": {
    "collapsed": true
   },
   "outputs": [],
   "source": [
    "#Prediction\n",
    "\n",
    "#y_test = model.predict(diamonds_test[FEATS])\n",
    "#y_train = model.predict(diamonds_train[FEATS])\n",
    "\n",
    "y_pred = model.predict(diamonds_predict[FEATS])\n",
    "\n",
    "#Submision\n",
    "\n",
    "submission_df_4 = pd.DataFrame({'id': diamonds_predict['id'], 'price': y_pred})\n",
    "\n",
    "submission_df_4.price.clip(0, 20000, inplace=True)\n",
    "\n",
    "submission_df_4.to_csv('diamonds_rf_4.csv', index=False)"
   ]
  }
 ],
 "metadata": {
  "kernelspec": {
   "display_name": "Python 3",
   "language": "python",
   "name": "python3"
  },
  "language_info": {
   "codemirror_mode": {
    "name": "ipython",
    "version": 3
   },
   "file_extension": ".py",
   "mimetype": "text/x-python",
   "name": "python",
   "nbconvert_exporter": "python",
   "pygments_lexer": "ipython3",
   "version": "3.5.4"
  }
 },
 "nbformat": 4,
 "nbformat_minor": 0
}
